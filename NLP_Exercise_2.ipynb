{
 "cells": [
  {
   "cell_type": "code",
   "execution_count": 1,
   "metadata": {
    "id": "5tUIAKyavhAT"
   },
   "outputs": [],
   "source": [
    "# The data consists of email body and labels for text classification.\n",
    "# 1) Message body\n",
    "# 2) Labels\n",
    "\n",
    "# The objective of exercise is to create a spam classifier to precisely classify the emails as either spam or non-spam."
   ]
  },
  {
   "cell_type": "code",
   "execution_count": 2,
   "metadata": {
    "id": "OzugEDeWtPwd"
   },
   "outputs": [],
   "source": [
    "# Questions:\n",
    "\n",
    "# 1. Read in the dataset (pass the value as 'unicode_escape' for the parameter encoding)\n",
    "# 2. Do the necessary data cleaning such as label encoding, missing value treatment (if any) and so on.\n",
    "# 3. Carry out text cleaning that suits the data at hand such as stemming, stopword and punctuation removal, \n",
    "#    tokenization, etc and get the clean processed text.\n",
    "# 4. Create vectors of predictor variable using count vectorizer or tfidf vectorizer\n",
    "# 5. Split the data into train and test sets, and build a classifier model using the former.\n",
    "# 6. Evaluate the  model performance using appropriate metrics."
   ]
  }
 ],
 "metadata": {
  "colab": {
   "name": "NLP_Exercise-1.ipynb",
   "provenance": []
  },
  "kernelspec": {
   "display_name": "Python 3 (ipykernel)",
   "language": "python",
   "name": "python3"
  },
  "language_info": {
   "codemirror_mode": {
    "name": "ipython",
    "version": 3
   },
   "file_extension": ".py",
   "mimetype": "text/x-python",
   "name": "python",
   "nbconvert_exporter": "python",
   "pygments_lexer": "ipython3",
   "version": "3.8.11"
  }
 },
 "nbformat": 4,
 "nbformat_minor": 1
}
